{
 "cells": [
  {
   "cell_type": "code",
   "execution_count": 1,
   "id": "b03eb484",
   "metadata": {
    "_cell_guid": "b1076dfc-b9ad-4769-8c92-a6c4dae69d19",
    "_uuid": "8f2839f25d086af736a60e9eeb907d3b93b6e0e5",
    "execution": {
     "iopub.execute_input": "2023-03-13T20:05:18.352102Z",
     "iopub.status.busy": "2023-03-13T20:05:18.351530Z",
     "iopub.status.idle": "2023-03-13T20:05:18.375115Z",
     "shell.execute_reply": "2023-03-13T20:05:18.373940Z"
    },
    "papermill": {
     "duration": 0.036501,
     "end_time": "2023-03-13T20:05:18.378818",
     "exception": false,
     "start_time": "2023-03-13T20:05:18.342317",
     "status": "completed"
    },
    "tags": []
   },
   "outputs": [
    {
     "name": "stdout",
     "output_type": "stream",
     "text": [
      "/kaggle/input/spotifyclassification/data.csv\n"
     ]
    }
   ],
   "source": [
    "# This Python 3 environment comes with many helpful analytics libraries installed\n",
    "# It is defined by the kaggle/python Docker image: https://github.com/kaggle/docker-python\n",
    "# For example, here's several helpful packages to load\n",
    "\n",
    "import numpy as np # linear algebra\n",
    "import pandas as pd # data processing, CSV file I/O (e.g. pd.read_csv)\n",
    "\n",
    "# Input data files are available in the read-only \"../input/\" directory\n",
    "# For example, running this (by clicking run or pressing Shift+Enter) will list all files under the input directory\n",
    "\n",
    "import os\n",
    "for dirname, _, filenames in os.walk('/kaggle/input'):\n",
    "    for filename in filenames:\n",
    "        print(os.path.join(dirname, filename))\n",
    "\n",
    "# You can write up to 20GB to the current directory (/kaggle/working/) that gets preserved as output when you create a version using \"Save & Run All\" \n",
    "# You can also write temporary files to /kaggle/temp/, but they won't be saved outside of the current session"
   ]
  },
  {
   "cell_type": "code",
   "execution_count": 2,
   "id": "bc2dd724",
   "metadata": {
    "execution": {
     "iopub.execute_input": "2023-03-13T20:05:18.393437Z",
     "iopub.status.busy": "2023-03-13T20:05:18.392798Z",
     "iopub.status.idle": "2023-03-13T20:05:19.449864Z",
     "shell.execute_reply": "2023-03-13T20:05:19.448682Z"
    },
    "papermill": {
     "duration": 1.067201,
     "end_time": "2023-03-13T20:05:19.452976",
     "exception": false,
     "start_time": "2023-03-13T20:05:18.385775",
     "status": "completed"
    },
    "tags": []
   },
   "outputs": [],
   "source": [
    "import pandas as pd\n",
    "import numpy as np\n",
    "import seaborn as sns\n",
    "import matplotlib.pyplot as plt\n"
   ]
  },
  {
   "cell_type": "code",
   "execution_count": 3,
   "id": "c4703101",
   "metadata": {
    "execution": {
     "iopub.execute_input": "2023-03-13T20:05:19.466373Z",
     "iopub.status.busy": "2023-03-13T20:05:19.465983Z",
     "iopub.status.idle": "2023-03-13T20:05:19.497216Z",
     "shell.execute_reply": "2023-03-13T20:05:19.496018Z"
    },
    "papermill": {
     "duration": 0.041345,
     "end_time": "2023-03-13T20:05:19.500272",
     "exception": false,
     "start_time": "2023-03-13T20:05:19.458927",
     "status": "completed"
    },
    "tags": []
   },
   "outputs": [],
   "source": [
    "dataset = pd.read_csv('/kaggle/input/spotifyclassification/data.csv')"
   ]
  },
  {
   "cell_type": "code",
   "execution_count": 4,
   "id": "b417df5f",
   "metadata": {
    "execution": {
     "iopub.execute_input": "2023-03-13T20:05:19.514066Z",
     "iopub.status.busy": "2023-03-13T20:05:19.513569Z",
     "iopub.status.idle": "2023-03-13T20:05:19.525398Z",
     "shell.execute_reply": "2023-03-13T20:05:19.524239Z"
    },
    "papermill": {
     "duration": 0.021376,
     "end_time": "2023-03-13T20:05:19.527605",
     "exception": false,
     "start_time": "2023-03-13T20:05:19.506229",
     "status": "completed"
    },
    "tags": []
   },
   "outputs": [],
   "source": [
    "dataset.drop(\"Unnamed: 0\",axis=1,inplace=True)"
   ]
  },
  {
   "cell_type": "code",
   "execution_count": 5,
   "id": "b4f963c0",
   "metadata": {
    "execution": {
     "iopub.execute_input": "2023-03-13T20:05:19.541042Z",
     "iopub.status.busy": "2023-03-13T20:05:19.540364Z",
     "iopub.status.idle": "2023-03-13T20:05:19.571504Z",
     "shell.execute_reply": "2023-03-13T20:05:19.570332Z"
    },
    "papermill": {
     "duration": 0.040802,
     "end_time": "2023-03-13T20:05:19.574065",
     "exception": false,
     "start_time": "2023-03-13T20:05:19.533263",
     "status": "completed"
    },
    "tags": []
   },
   "outputs": [
    {
     "data": {
      "text/html": [
       "<div>\n",
       "<style scoped>\n",
       "    .dataframe tbody tr th:only-of-type {\n",
       "        vertical-align: middle;\n",
       "    }\n",
       "\n",
       "    .dataframe tbody tr th {\n",
       "        vertical-align: top;\n",
       "    }\n",
       "\n",
       "    .dataframe thead th {\n",
       "        text-align: right;\n",
       "    }\n",
       "</style>\n",
       "<table border=\"1\" class=\"dataframe\">\n",
       "  <thead>\n",
       "    <tr style=\"text-align: right;\">\n",
       "      <th></th>\n",
       "      <th>acousticness</th>\n",
       "      <th>danceability</th>\n",
       "      <th>duration_ms</th>\n",
       "      <th>energy</th>\n",
       "      <th>instrumentalness</th>\n",
       "      <th>key</th>\n",
       "      <th>liveness</th>\n",
       "      <th>loudness</th>\n",
       "      <th>mode</th>\n",
       "      <th>speechiness</th>\n",
       "      <th>tempo</th>\n",
       "      <th>time_signature</th>\n",
       "      <th>valence</th>\n",
       "      <th>target</th>\n",
       "      <th>song_title</th>\n",
       "      <th>artist</th>\n",
       "    </tr>\n",
       "  </thead>\n",
       "  <tbody>\n",
       "    <tr>\n",
       "      <th>0</th>\n",
       "      <td>0.0102</td>\n",
       "      <td>0.833</td>\n",
       "      <td>204600</td>\n",
       "      <td>0.434</td>\n",
       "      <td>0.021900</td>\n",
       "      <td>2</td>\n",
       "      <td>0.1650</td>\n",
       "      <td>-8.795</td>\n",
       "      <td>1</td>\n",
       "      <td>0.4310</td>\n",
       "      <td>150.062</td>\n",
       "      <td>4.0</td>\n",
       "      <td>0.286</td>\n",
       "      <td>1</td>\n",
       "      <td>Mask Off</td>\n",
       "      <td>Future</td>\n",
       "    </tr>\n",
       "    <tr>\n",
       "      <th>1</th>\n",
       "      <td>0.1990</td>\n",
       "      <td>0.743</td>\n",
       "      <td>326933</td>\n",
       "      <td>0.359</td>\n",
       "      <td>0.006110</td>\n",
       "      <td>1</td>\n",
       "      <td>0.1370</td>\n",
       "      <td>-10.401</td>\n",
       "      <td>1</td>\n",
       "      <td>0.0794</td>\n",
       "      <td>160.083</td>\n",
       "      <td>4.0</td>\n",
       "      <td>0.588</td>\n",
       "      <td>1</td>\n",
       "      <td>Redbone</td>\n",
       "      <td>Childish Gambino</td>\n",
       "    </tr>\n",
       "    <tr>\n",
       "      <th>2</th>\n",
       "      <td>0.0344</td>\n",
       "      <td>0.838</td>\n",
       "      <td>185707</td>\n",
       "      <td>0.412</td>\n",
       "      <td>0.000234</td>\n",
       "      <td>2</td>\n",
       "      <td>0.1590</td>\n",
       "      <td>-7.148</td>\n",
       "      <td>1</td>\n",
       "      <td>0.2890</td>\n",
       "      <td>75.044</td>\n",
       "      <td>4.0</td>\n",
       "      <td>0.173</td>\n",
       "      <td>1</td>\n",
       "      <td>Xanny Family</td>\n",
       "      <td>Future</td>\n",
       "    </tr>\n",
       "    <tr>\n",
       "      <th>3</th>\n",
       "      <td>0.6040</td>\n",
       "      <td>0.494</td>\n",
       "      <td>199413</td>\n",
       "      <td>0.338</td>\n",
       "      <td>0.510000</td>\n",
       "      <td>5</td>\n",
       "      <td>0.0922</td>\n",
       "      <td>-15.236</td>\n",
       "      <td>1</td>\n",
       "      <td>0.0261</td>\n",
       "      <td>86.468</td>\n",
       "      <td>4.0</td>\n",
       "      <td>0.230</td>\n",
       "      <td>1</td>\n",
       "      <td>Master Of None</td>\n",
       "      <td>Beach House</td>\n",
       "    </tr>\n",
       "    <tr>\n",
       "      <th>4</th>\n",
       "      <td>0.1800</td>\n",
       "      <td>0.678</td>\n",
       "      <td>392893</td>\n",
       "      <td>0.561</td>\n",
       "      <td>0.512000</td>\n",
       "      <td>5</td>\n",
       "      <td>0.4390</td>\n",
       "      <td>-11.648</td>\n",
       "      <td>0</td>\n",
       "      <td>0.0694</td>\n",
       "      <td>174.004</td>\n",
       "      <td>4.0</td>\n",
       "      <td>0.904</td>\n",
       "      <td>1</td>\n",
       "      <td>Parallel Lines</td>\n",
       "      <td>Junior Boys</td>\n",
       "    </tr>\n",
       "  </tbody>\n",
       "</table>\n",
       "</div>"
      ],
      "text/plain": [
       "   acousticness  danceability  duration_ms  energy  instrumentalness  key  \\\n",
       "0        0.0102         0.833       204600   0.434          0.021900    2   \n",
       "1        0.1990         0.743       326933   0.359          0.006110    1   \n",
       "2        0.0344         0.838       185707   0.412          0.000234    2   \n",
       "3        0.6040         0.494       199413   0.338          0.510000    5   \n",
       "4        0.1800         0.678       392893   0.561          0.512000    5   \n",
       "\n",
       "   liveness  loudness  mode  speechiness    tempo  time_signature  valence  \\\n",
       "0    0.1650    -8.795     1       0.4310  150.062             4.0    0.286   \n",
       "1    0.1370   -10.401     1       0.0794  160.083             4.0    0.588   \n",
       "2    0.1590    -7.148     1       0.2890   75.044             4.0    0.173   \n",
       "3    0.0922   -15.236     1       0.0261   86.468             4.0    0.230   \n",
       "4    0.4390   -11.648     0       0.0694  174.004             4.0    0.904   \n",
       "\n",
       "   target      song_title            artist  \n",
       "0       1        Mask Off            Future  \n",
       "1       1         Redbone  Childish Gambino  \n",
       "2       1    Xanny Family            Future  \n",
       "3       1  Master Of None       Beach House  \n",
       "4       1  Parallel Lines       Junior Boys  "
      ]
     },
     "execution_count": 5,
     "metadata": {},
     "output_type": "execute_result"
    }
   ],
   "source": [
    "dataset.head()"
   ]
  },
  {
   "cell_type": "code",
   "execution_count": 6,
   "id": "43f1f575",
   "metadata": {
    "execution": {
     "iopub.execute_input": "2023-03-13T20:05:19.587901Z",
     "iopub.status.busy": "2023-03-13T20:05:19.587248Z",
     "iopub.status.idle": "2023-03-13T20:05:19.607235Z",
     "shell.execute_reply": "2023-03-13T20:05:19.605961Z"
    },
    "papermill": {
     "duration": 0.029507,
     "end_time": "2023-03-13T20:05:19.609710",
     "exception": false,
     "start_time": "2023-03-13T20:05:19.580203",
     "status": "completed"
    },
    "tags": []
   },
   "outputs": [
    {
     "name": "stdout",
     "output_type": "stream",
     "text": [
      "<class 'pandas.core.frame.DataFrame'>\n",
      "RangeIndex: 2017 entries, 0 to 2016\n",
      "Data columns (total 16 columns):\n",
      " #   Column            Non-Null Count  Dtype  \n",
      "---  ------            --------------  -----  \n",
      " 0   acousticness      2017 non-null   float64\n",
      " 1   danceability      2017 non-null   float64\n",
      " 2   duration_ms       2017 non-null   int64  \n",
      " 3   energy            2017 non-null   float64\n",
      " 4   instrumentalness  2017 non-null   float64\n",
      " 5   key               2017 non-null   int64  \n",
      " 6   liveness          2017 non-null   float64\n",
      " 7   loudness          2017 non-null   float64\n",
      " 8   mode              2017 non-null   int64  \n",
      " 9   speechiness       2017 non-null   float64\n",
      " 10  tempo             2017 non-null   float64\n",
      " 11  time_signature    2017 non-null   float64\n",
      " 12  valence           2017 non-null   float64\n",
      " 13  target            2017 non-null   int64  \n",
      " 14  song_title        2017 non-null   object \n",
      " 15  artist            2017 non-null   object \n",
      "dtypes: float64(10), int64(4), object(2)\n",
      "memory usage: 252.2+ KB\n"
     ]
    }
   ],
   "source": [
    "dataset.info()"
   ]
  },
  {
   "cell_type": "code",
   "execution_count": 7,
   "id": "8ad27492",
   "metadata": {
    "execution": {
     "iopub.execute_input": "2023-03-13T20:05:19.624007Z",
     "iopub.status.busy": "2023-03-13T20:05:19.623104Z",
     "iopub.status.idle": "2023-03-13T20:05:19.633321Z",
     "shell.execute_reply": "2023-03-13T20:05:19.632206Z"
    },
    "papermill": {
     "duration": 0.019469,
     "end_time": "2023-03-13T20:05:19.635454",
     "exception": false,
     "start_time": "2023-03-13T20:05:19.615985",
     "status": "completed"
    },
    "tags": []
   },
   "outputs": [
    {
     "data": {
      "text/plain": [
       "acousticness        0\n",
       "danceability        0\n",
       "duration_ms         0\n",
       "energy              0\n",
       "instrumentalness    0\n",
       "key                 0\n",
       "liveness            0\n",
       "loudness            0\n",
       "mode                0\n",
       "speechiness         0\n",
       "tempo               0\n",
       "time_signature      0\n",
       "valence             0\n",
       "target              0\n",
       "song_title          0\n",
       "artist              0\n",
       "dtype: int64"
      ]
     },
     "execution_count": 7,
     "metadata": {},
     "output_type": "execute_result"
    }
   ],
   "source": [
    "dataset.isna().sum()"
   ]
  },
  {
   "cell_type": "code",
   "execution_count": 8,
   "id": "a5d84cd3",
   "metadata": {
    "execution": {
     "iopub.execute_input": "2023-03-13T20:05:19.649163Z",
     "iopub.status.busy": "2023-03-13T20:05:19.648801Z",
     "iopub.status.idle": "2023-03-13T20:05:19.701234Z",
     "shell.execute_reply": "2023-03-13T20:05:19.700105Z"
    },
    "papermill": {
     "duration": 0.062161,
     "end_time": "2023-03-13T20:05:19.703764",
     "exception": false,
     "start_time": "2023-03-13T20:05:19.641603",
     "status": "completed"
    },
    "tags": []
   },
   "outputs": [
    {
     "data": {
      "text/html": [
       "<div>\n",
       "<style scoped>\n",
       "    .dataframe tbody tr th:only-of-type {\n",
       "        vertical-align: middle;\n",
       "    }\n",
       "\n",
       "    .dataframe tbody tr th {\n",
       "        vertical-align: top;\n",
       "    }\n",
       "\n",
       "    .dataframe thead th {\n",
       "        text-align: right;\n",
       "    }\n",
       "</style>\n",
       "<table border=\"1\" class=\"dataframe\">\n",
       "  <thead>\n",
       "    <tr style=\"text-align: right;\">\n",
       "      <th></th>\n",
       "      <th>acousticness</th>\n",
       "      <th>danceability</th>\n",
       "      <th>duration_ms</th>\n",
       "      <th>energy</th>\n",
       "      <th>instrumentalness</th>\n",
       "      <th>key</th>\n",
       "      <th>liveness</th>\n",
       "      <th>loudness</th>\n",
       "      <th>mode</th>\n",
       "      <th>speechiness</th>\n",
       "      <th>tempo</th>\n",
       "      <th>time_signature</th>\n",
       "      <th>valence</th>\n",
       "      <th>target</th>\n",
       "    </tr>\n",
       "  </thead>\n",
       "  <tbody>\n",
       "    <tr>\n",
       "      <th>count</th>\n",
       "      <td>2017.000000</td>\n",
       "      <td>2017.000000</td>\n",
       "      <td>2.017000e+03</td>\n",
       "      <td>2017.000000</td>\n",
       "      <td>2017.000000</td>\n",
       "      <td>2017.000000</td>\n",
       "      <td>2017.000000</td>\n",
       "      <td>2017.000000</td>\n",
       "      <td>2017.000000</td>\n",
       "      <td>2017.000000</td>\n",
       "      <td>2017.000000</td>\n",
       "      <td>2017.000000</td>\n",
       "      <td>2017.000000</td>\n",
       "      <td>2017.000000</td>\n",
       "    </tr>\n",
       "    <tr>\n",
       "      <th>mean</th>\n",
       "      <td>0.187590</td>\n",
       "      <td>0.618422</td>\n",
       "      <td>2.463062e+05</td>\n",
       "      <td>0.681577</td>\n",
       "      <td>0.133286</td>\n",
       "      <td>5.342588</td>\n",
       "      <td>0.190844</td>\n",
       "      <td>-7.085624</td>\n",
       "      <td>0.612295</td>\n",
       "      <td>0.092664</td>\n",
       "      <td>121.603272</td>\n",
       "      <td>3.968270</td>\n",
       "      <td>0.496815</td>\n",
       "      <td>0.505702</td>\n",
       "    </tr>\n",
       "    <tr>\n",
       "      <th>std</th>\n",
       "      <td>0.259989</td>\n",
       "      <td>0.161029</td>\n",
       "      <td>8.198181e+04</td>\n",
       "      <td>0.210273</td>\n",
       "      <td>0.273162</td>\n",
       "      <td>3.648240</td>\n",
       "      <td>0.155453</td>\n",
       "      <td>3.761684</td>\n",
       "      <td>0.487347</td>\n",
       "      <td>0.089931</td>\n",
       "      <td>26.685604</td>\n",
       "      <td>0.255853</td>\n",
       "      <td>0.247195</td>\n",
       "      <td>0.500091</td>\n",
       "    </tr>\n",
       "    <tr>\n",
       "      <th>min</th>\n",
       "      <td>0.000003</td>\n",
       "      <td>0.122000</td>\n",
       "      <td>1.604200e+04</td>\n",
       "      <td>0.014800</td>\n",
       "      <td>0.000000</td>\n",
       "      <td>0.000000</td>\n",
       "      <td>0.018800</td>\n",
       "      <td>-33.097000</td>\n",
       "      <td>0.000000</td>\n",
       "      <td>0.023100</td>\n",
       "      <td>47.859000</td>\n",
       "      <td>1.000000</td>\n",
       "      <td>0.034800</td>\n",
       "      <td>0.000000</td>\n",
       "    </tr>\n",
       "    <tr>\n",
       "      <th>25%</th>\n",
       "      <td>0.009630</td>\n",
       "      <td>0.514000</td>\n",
       "      <td>2.000150e+05</td>\n",
       "      <td>0.563000</td>\n",
       "      <td>0.000000</td>\n",
       "      <td>2.000000</td>\n",
       "      <td>0.092300</td>\n",
       "      <td>-8.394000</td>\n",
       "      <td>0.000000</td>\n",
       "      <td>0.037500</td>\n",
       "      <td>100.189000</td>\n",
       "      <td>4.000000</td>\n",
       "      <td>0.295000</td>\n",
       "      <td>0.000000</td>\n",
       "    </tr>\n",
       "    <tr>\n",
       "      <th>50%</th>\n",
       "      <td>0.063300</td>\n",
       "      <td>0.631000</td>\n",
       "      <td>2.292610e+05</td>\n",
       "      <td>0.715000</td>\n",
       "      <td>0.000076</td>\n",
       "      <td>6.000000</td>\n",
       "      <td>0.127000</td>\n",
       "      <td>-6.248000</td>\n",
       "      <td>1.000000</td>\n",
       "      <td>0.054900</td>\n",
       "      <td>121.427000</td>\n",
       "      <td>4.000000</td>\n",
       "      <td>0.492000</td>\n",
       "      <td>1.000000</td>\n",
       "    </tr>\n",
       "    <tr>\n",
       "      <th>75%</th>\n",
       "      <td>0.265000</td>\n",
       "      <td>0.738000</td>\n",
       "      <td>2.703330e+05</td>\n",
       "      <td>0.846000</td>\n",
       "      <td>0.054000</td>\n",
       "      <td>9.000000</td>\n",
       "      <td>0.247000</td>\n",
       "      <td>-4.746000</td>\n",
       "      <td>1.000000</td>\n",
       "      <td>0.108000</td>\n",
       "      <td>137.849000</td>\n",
       "      <td>4.000000</td>\n",
       "      <td>0.691000</td>\n",
       "      <td>1.000000</td>\n",
       "    </tr>\n",
       "    <tr>\n",
       "      <th>max</th>\n",
       "      <td>0.995000</td>\n",
       "      <td>0.984000</td>\n",
       "      <td>1.004627e+06</td>\n",
       "      <td>0.998000</td>\n",
       "      <td>0.976000</td>\n",
       "      <td>11.000000</td>\n",
       "      <td>0.969000</td>\n",
       "      <td>-0.307000</td>\n",
       "      <td>1.000000</td>\n",
       "      <td>0.816000</td>\n",
       "      <td>219.331000</td>\n",
       "      <td>5.000000</td>\n",
       "      <td>0.992000</td>\n",
       "      <td>1.000000</td>\n",
       "    </tr>\n",
       "  </tbody>\n",
       "</table>\n",
       "</div>"
      ],
      "text/plain": [
       "       acousticness  danceability   duration_ms       energy  \\\n",
       "count   2017.000000   2017.000000  2.017000e+03  2017.000000   \n",
       "mean       0.187590      0.618422  2.463062e+05     0.681577   \n",
       "std        0.259989      0.161029  8.198181e+04     0.210273   \n",
       "min        0.000003      0.122000  1.604200e+04     0.014800   \n",
       "25%        0.009630      0.514000  2.000150e+05     0.563000   \n",
       "50%        0.063300      0.631000  2.292610e+05     0.715000   \n",
       "75%        0.265000      0.738000  2.703330e+05     0.846000   \n",
       "max        0.995000      0.984000  1.004627e+06     0.998000   \n",
       "\n",
       "       instrumentalness          key     liveness     loudness         mode  \\\n",
       "count       2017.000000  2017.000000  2017.000000  2017.000000  2017.000000   \n",
       "mean           0.133286     5.342588     0.190844    -7.085624     0.612295   \n",
       "std            0.273162     3.648240     0.155453     3.761684     0.487347   \n",
       "min            0.000000     0.000000     0.018800   -33.097000     0.000000   \n",
       "25%            0.000000     2.000000     0.092300    -8.394000     0.000000   \n",
       "50%            0.000076     6.000000     0.127000    -6.248000     1.000000   \n",
       "75%            0.054000     9.000000     0.247000    -4.746000     1.000000   \n",
       "max            0.976000    11.000000     0.969000    -0.307000     1.000000   \n",
       "\n",
       "       speechiness        tempo  time_signature      valence       target  \n",
       "count  2017.000000  2017.000000     2017.000000  2017.000000  2017.000000  \n",
       "mean      0.092664   121.603272        3.968270     0.496815     0.505702  \n",
       "std       0.089931    26.685604        0.255853     0.247195     0.500091  \n",
       "min       0.023100    47.859000        1.000000     0.034800     0.000000  \n",
       "25%       0.037500   100.189000        4.000000     0.295000     0.000000  \n",
       "50%       0.054900   121.427000        4.000000     0.492000     1.000000  \n",
       "75%       0.108000   137.849000        4.000000     0.691000     1.000000  \n",
       "max       0.816000   219.331000        5.000000     0.992000     1.000000  "
      ]
     },
     "execution_count": 8,
     "metadata": {},
     "output_type": "execute_result"
    }
   ],
   "source": [
    "dataset.describe()"
   ]
  },
  {
   "cell_type": "code",
   "execution_count": 9,
   "id": "ff496f24",
   "metadata": {
    "execution": {
     "iopub.execute_input": "2023-03-13T20:05:19.719022Z",
     "iopub.status.busy": "2023-03-13T20:05:19.718279Z",
     "iopub.status.idle": "2023-03-13T20:05:19.731549Z",
     "shell.execute_reply": "2023-03-13T20:05:19.730724Z"
    },
    "papermill": {
     "duration": 0.023581,
     "end_time": "2023-03-13T20:05:19.733965",
     "exception": false,
     "start_time": "2023-03-13T20:05:19.710384",
     "status": "completed"
    },
    "tags": []
   },
   "outputs": [
    {
     "data": {
      "text/plain": [
       "artist\n",
       "Drake              16\n",
       "Rick Ross          13\n",
       "Disclosure         12\n",
       "Backstreet Boys    10\n",
       "WALK THE MOON      10\n",
       "                   ..\n",
       "Hoodfellas          1\n",
       "Hot Chocolate       1\n",
       "Hotel Eden          1\n",
       "How Sad             1\n",
       "플랫핏 Flat Feet       1\n",
       "Name: song_title, Length: 1343, dtype: int64"
      ]
     },
     "execution_count": 9,
     "metadata": {},
     "output_type": "execute_result"
    }
   ],
   "source": [
    "dataset.groupby(\"artist\")[\"song_title\"].count().sort_values(ascending=False)"
   ]
  },
  {
   "cell_type": "code",
   "execution_count": 10,
   "id": "b1f5455d",
   "metadata": {
    "execution": {
     "iopub.execute_input": "2023-03-13T20:05:19.749038Z",
     "iopub.status.busy": "2023-03-13T20:05:19.748635Z",
     "iopub.status.idle": "2023-03-13T20:05:19.761350Z",
     "shell.execute_reply": "2023-03-13T20:05:19.760401Z"
    },
    "papermill": {
     "duration": 0.022706,
     "end_time": "2023-03-13T20:05:19.763476",
     "exception": false,
     "start_time": "2023-03-13T20:05:19.740770",
     "status": "completed"
    },
    "tags": []
   },
   "outputs": [
    {
     "data": {
      "text/plain": [
       "artist\n",
       "Drake              16\n",
       "Rick Ross          13\n",
       "Disclosure         12\n",
       "Backstreet Boys    10\n",
       "WALK THE MOON      10\n",
       "Name: song_title, dtype: int64"
      ]
     },
     "execution_count": 10,
     "metadata": {},
     "output_type": "execute_result"
    }
   ],
   "source": [
    "top_five_artist=dataset.groupby(\"artist\").count().sort_values(by=\"song_title\",ascending=False)[\"song_title\"].head(5)\n",
    "top_five_artist"
   ]
  },
  {
   "cell_type": "code",
   "execution_count": 11,
   "id": "720989e0",
   "metadata": {
    "execution": {
     "iopub.execute_input": "2023-03-13T20:05:19.778452Z",
     "iopub.status.busy": "2023-03-13T20:05:19.778135Z",
     "iopub.status.idle": "2023-03-13T20:05:19.790077Z",
     "shell.execute_reply": "2023-03-13T20:05:19.789101Z"
    },
    "papermill": {
     "duration": 0.021995,
     "end_time": "2023-03-13T20:05:19.792223",
     "exception": false,
     "start_time": "2023-03-13T20:05:19.770228",
     "status": "completed"
    },
    "tags": []
   },
   "outputs": [
    {
     "data": {
      "text/html": [
       "<div>\n",
       "<style scoped>\n",
       "    .dataframe tbody tr th:only-of-type {\n",
       "        vertical-align: middle;\n",
       "    }\n",
       "\n",
       "    .dataframe tbody tr th {\n",
       "        vertical-align: top;\n",
       "    }\n",
       "\n",
       "    .dataframe thead th {\n",
       "        text-align: right;\n",
       "    }\n",
       "</style>\n",
       "<table border=\"1\" class=\"dataframe\">\n",
       "  <thead>\n",
       "    <tr style=\"text-align: right;\">\n",
       "      <th></th>\n",
       "      <th>loudness</th>\n",
       "      <th>song_title</th>\n",
       "    </tr>\n",
       "  </thead>\n",
       "  <tbody>\n",
       "    <tr>\n",
       "      <th>1594</th>\n",
       "      <td>-33.097</td>\n",
       "      <td>Lyric Pieces, Book I Op. 12: I. Arietta</td>\n",
       "    </tr>\n",
       "    <tr>\n",
       "      <th>1596</th>\n",
       "      <td>-31.367</td>\n",
       "      <td>8 Fantasiestücke, Op.12 : 1. Des Abends</td>\n",
       "    </tr>\n",
       "    <tr>\n",
       "      <th>1598</th>\n",
       "      <td>-31.082</td>\n",
       "      <td>Piano Quartet in E flat, Op.47: 3. Andante can...</td>\n",
       "    </tr>\n",
       "    <tr>\n",
       "      <th>1531</th>\n",
       "      <td>-30.447</td>\n",
       "      <td>I Was So Young, and You Were So Beautiful</td>\n",
       "    </tr>\n",
       "    <tr>\n",
       "      <th>1549</th>\n",
       "      <td>-29.460</td>\n",
       "      <td>Eleanor</td>\n",
       "    </tr>\n",
       "  </tbody>\n",
       "</table>\n",
       "</div>"
      ],
      "text/plain": [
       "      loudness                                         song_title\n",
       "1594   -33.097            Lyric Pieces, Book I Op. 12: I. Arietta\n",
       "1596   -31.367            8 Fantasiestücke, Op.12 : 1. Des Abends\n",
       "1598   -31.082  Piano Quartet in E flat, Op.47: 3. Andante can...\n",
       "1531   -30.447          I Was So Young, and You Were So Beautiful\n",
       "1549   -29.460                                            Eleanor"
      ]
     },
     "execution_count": 11,
     "metadata": {},
     "output_type": "execute_result"
    }
   ],
   "source": [
    "#top 5 loudest tracks\n",
    "top_five_loudest=dataset[[\"loudness\",\"song_title\"]].sort_values(by=\"loudness\",ascending=True)[:5]\n",
    "top_five_loudest"
   ]
  },
  {
   "cell_type": "code",
   "execution_count": 12,
   "id": "6c6ecfc3",
   "metadata": {
    "execution": {
     "iopub.execute_input": "2023-03-13T20:05:19.808615Z",
     "iopub.status.busy": "2023-03-13T20:05:19.808015Z",
     "iopub.status.idle": "2023-03-13T20:05:19.821582Z",
     "shell.execute_reply": "2023-03-13T20:05:19.820627Z"
    },
    "papermill": {
     "duration": 0.023794,
     "end_time": "2023-03-13T20:05:19.823743",
     "exception": false,
     "start_time": "2023-03-13T20:05:19.799949",
     "status": "completed"
    },
    "tags": []
   },
   "outputs": [
    {
     "data": {
      "text/html": [
       "<div>\n",
       "<style scoped>\n",
       "    .dataframe tbody tr th:only-of-type {\n",
       "        vertical-align: middle;\n",
       "    }\n",
       "\n",
       "    .dataframe tbody tr th {\n",
       "        vertical-align: top;\n",
       "    }\n",
       "\n",
       "    .dataframe thead th {\n",
       "        text-align: right;\n",
       "    }\n",
       "</style>\n",
       "<table border=\"1\" class=\"dataframe\">\n",
       "  <thead>\n",
       "    <tr style=\"text-align: right;\">\n",
       "      <th></th>\n",
       "      <th>danceability</th>\n",
       "      <th>song_title</th>\n",
       "      <th>artist</th>\n",
       "    </tr>\n",
       "  </thead>\n",
       "  <tbody>\n",
       "    <tr>\n",
       "      <th>1433</th>\n",
       "      <td>0.984</td>\n",
       "      <td>Flashwind - Radio Edit</td>\n",
       "      <td>Ben Remember</td>\n",
       "    </tr>\n",
       "    <tr>\n",
       "      <th>1901</th>\n",
       "      <td>0.967</td>\n",
       "      <td>SexyBack</td>\n",
       "      <td>Justin Timberlake</td>\n",
       "    </tr>\n",
       "    <tr>\n",
       "      <th>604</th>\n",
       "      <td>0.962</td>\n",
       "      <td>Check Me Out Like</td>\n",
       "      <td>Blaqstarr</td>\n",
       "    </tr>\n",
       "    <tr>\n",
       "      <th>32</th>\n",
       "      <td>0.959</td>\n",
       "      <td>Best Friend</td>\n",
       "      <td>Young Thug</td>\n",
       "    </tr>\n",
       "    <tr>\n",
       "      <th>1957</th>\n",
       "      <td>0.959</td>\n",
       "      <td>Ice Ice Baby</td>\n",
       "      <td>Vanilla Ice</td>\n",
       "    </tr>\n",
       "  </tbody>\n",
       "</table>\n",
       "</div>"
      ],
      "text/plain": [
       "      danceability              song_title             artist\n",
       "1433         0.984  Flashwind - Radio Edit       Ben Remember\n",
       "1901         0.967                SexyBack  Justin Timberlake\n",
       "604          0.962       Check Me Out Like          Blaqstarr\n",
       "32           0.959             Best Friend         Young Thug\n",
       "1957         0.959            Ice Ice Baby        Vanilla Ice"
      ]
     },
     "execution_count": 12,
     "metadata": {},
     "output_type": "execute_result"
    }
   ],
   "source": [
    "#artist with the most dancebility song\n",
    "top_five_artist_dancebility=dataset[[\"danceability\",\"song_title\",\"artist\"]].sort_values(by=\"danceability\",ascending=False)[:5]\n",
    "top_five_artist_dancebility"
   ]
  },
  {
   "cell_type": "code",
   "execution_count": 13,
   "id": "9835b07d",
   "metadata": {
    "execution": {
     "iopub.execute_input": "2023-03-13T20:05:19.839260Z",
     "iopub.status.busy": "2023-03-13T20:05:19.838926Z",
     "iopub.status.idle": "2023-03-13T20:05:19.844616Z",
     "shell.execute_reply": "2023-03-13T20:05:19.843887Z"
    },
    "papermill": {
     "duration": 0.015824,
     "end_time": "2023-03-13T20:05:19.846602",
     "exception": false,
     "start_time": "2023-03-13T20:05:19.830778",
     "status": "completed"
    },
    "tags": []
   },
   "outputs": [
    {
     "data": {
      "text/plain": [
       "Index(['acousticness', 'danceability', 'duration_ms', 'energy',\n",
       "       'instrumentalness', 'key', 'liveness', 'loudness', 'mode',\n",
       "       'speechiness', 'tempo', 'time_signature', 'valence', 'target',\n",
       "       'song_title', 'artist'],\n",
       "      dtype='object')"
      ]
     },
     "execution_count": 13,
     "metadata": {},
     "output_type": "execute_result"
    }
   ],
   "source": [
    "dataset.columns"
   ]
  },
  {
   "cell_type": "code",
   "execution_count": 14,
   "id": "ab677888",
   "metadata": {
    "execution": {
     "iopub.execute_input": "2023-03-13T20:05:19.862037Z",
     "iopub.status.busy": "2023-03-13T20:05:19.861666Z",
     "iopub.status.idle": "2023-03-13T20:05:19.874949Z",
     "shell.execute_reply": "2023-03-13T20:05:19.873954Z"
    },
    "papermill": {
     "duration": 0.023353,
     "end_time": "2023-03-13T20:05:19.877053",
     "exception": false,
     "start_time": "2023-03-13T20:05:19.853700",
     "status": "completed"
    },
    "tags": []
   },
   "outputs": [
    {
     "data": {
      "text/html": [
       "<div>\n",
       "<style scoped>\n",
       "    .dataframe tbody tr th:only-of-type {\n",
       "        vertical-align: middle;\n",
       "    }\n",
       "\n",
       "    .dataframe tbody tr th {\n",
       "        vertical-align: top;\n",
       "    }\n",
       "\n",
       "    .dataframe thead th {\n",
       "        text-align: right;\n",
       "    }\n",
       "</style>\n",
       "<table border=\"1\" class=\"dataframe\">\n",
       "  <thead>\n",
       "    <tr style=\"text-align: right;\">\n",
       "      <th></th>\n",
       "      <th>instrumentalness</th>\n",
       "      <th>song_title</th>\n",
       "      <th>artist</th>\n",
       "    </tr>\n",
       "  </thead>\n",
       "  <tbody>\n",
       "    <tr>\n",
       "      <th>1313</th>\n",
       "      <td>0.976</td>\n",
       "      <td>Senseless Order</td>\n",
       "      <td>Signs of the Swarm</td>\n",
       "    </tr>\n",
       "    <tr>\n",
       "      <th>271</th>\n",
       "      <td>0.968</td>\n",
       "      <td>So Destroyed (channeling Rage Peace)</td>\n",
       "      <td>Prince Rama</td>\n",
       "    </tr>\n",
       "    <tr>\n",
       "      <th>1575</th>\n",
       "      <td>0.964</td>\n",
       "      <td>A Hundred Dreams from Now</td>\n",
       "      <td>Ray Bryant</td>\n",
       "    </tr>\n",
       "    <tr>\n",
       "      <th>1619</th>\n",
       "      <td>0.958</td>\n",
       "      <td>Raven</td>\n",
       "      <td>John Dahlbäck</td>\n",
       "    </tr>\n",
       "    <tr>\n",
       "      <th>725</th>\n",
       "      <td>0.957</td>\n",
       "      <td>Strandbar (disko)</td>\n",
       "      <td>Todd Terje</td>\n",
       "    </tr>\n",
       "  </tbody>\n",
       "</table>\n",
       "</div>"
      ],
      "text/plain": [
       "      instrumentalness                            song_title  \\\n",
       "1313             0.976                       Senseless Order   \n",
       "271              0.968  So Destroyed (channeling Rage Peace)   \n",
       "1575             0.964             A Hundred Dreams from Now   \n",
       "1619             0.958                                 Raven   \n",
       "725              0.957                     Strandbar (disko)   \n",
       "\n",
       "                  artist  \n",
       "1313  Signs of the Swarm  \n",
       "271          Prince Rama  \n",
       "1575          Ray Bryant  \n",
       "1619       John Dahlbäck  \n",
       "725           Todd Terje  "
      ]
     },
     "execution_count": 14,
     "metadata": {},
     "output_type": "execute_result"
    }
   ],
   "source": [
    "#top 10 instrumentalness tracks\n",
    "top_instrumental=dataset[[\"instrumentalness\",\"song_title\",\"artist\"]].sort_values(ascending=False,by=\"instrumentalness\")[:5]\n",
    "top_instrumental"
   ]
  },
  {
   "cell_type": "code",
   "execution_count": 15,
   "id": "a39fdfa9",
   "metadata": {
    "execution": {
     "iopub.execute_input": "2023-03-13T20:05:19.893413Z",
     "iopub.status.busy": "2023-03-13T20:05:19.893049Z",
     "iopub.status.idle": "2023-03-13T20:05:19.908246Z",
     "shell.execute_reply": "2023-03-13T20:05:19.907128Z"
    },
    "papermill": {
     "duration": 0.025904,
     "end_time": "2023-03-13T20:05:19.910530",
     "exception": false,
     "start_time": "2023-03-13T20:05:19.884626",
     "status": "completed"
    },
    "tags": []
   },
   "outputs": [
    {
     "data": {
      "text/html": [
       "<div>\n",
       "<style scoped>\n",
       "    .dataframe tbody tr th:only-of-type {\n",
       "        vertical-align: middle;\n",
       "    }\n",
       "\n",
       "    .dataframe tbody tr th {\n",
       "        vertical-align: top;\n",
       "    }\n",
       "\n",
       "    .dataframe thead th {\n",
       "        text-align: right;\n",
       "    }\n",
       "</style>\n",
       "<table border=\"1\" class=\"dataframe\">\n",
       "  <thead>\n",
       "    <tr style=\"text-align: right;\">\n",
       "      <th></th>\n",
       "      <th>energy</th>\n",
       "      <th>song_title</th>\n",
       "      <th>artist</th>\n",
       "    </tr>\n",
       "  </thead>\n",
       "  <tbody>\n",
       "    <tr>\n",
       "      <th>1299</th>\n",
       "      <td>0.998</td>\n",
       "      <td>No Absolution</td>\n",
       "      <td>Thy Art Is Murder</td>\n",
       "    </tr>\n",
       "    <tr>\n",
       "      <th>1322</th>\n",
       "      <td>0.997</td>\n",
       "      <td>Pitchblack</td>\n",
       "      <td>Walking Dead On Broadway</td>\n",
       "    </tr>\n",
       "    <tr>\n",
       "      <th>1297</th>\n",
       "      <td>0.994</td>\n",
       "      <td>A Darkened Gospel</td>\n",
       "      <td>A Wake in Providence</td>\n",
       "    </tr>\n",
       "    <tr>\n",
       "      <th>1347</th>\n",
       "      <td>0.993</td>\n",
       "      <td>Unanswered</td>\n",
       "      <td>Suicide Silence</td>\n",
       "    </tr>\n",
       "    <tr>\n",
       "      <th>2015</th>\n",
       "      <td>0.992</td>\n",
       "      <td>First Contact</td>\n",
       "      <td>Twin Moons</td>\n",
       "    </tr>\n",
       "    <tr>\n",
       "      <th>1680</th>\n",
       "      <td>0.992</td>\n",
       "      <td>Paranoia</td>\n",
       "      <td>A Day To Remember</td>\n",
       "    </tr>\n",
       "    <tr>\n",
       "      <th>1332</th>\n",
       "      <td>0.992</td>\n",
       "      <td>Beautiful Agony</td>\n",
       "      <td>Within The Ruins</td>\n",
       "    </tr>\n",
       "    <tr>\n",
       "      <th>1328</th>\n",
       "      <td>0.991</td>\n",
       "      <td>Down into the Abyss</td>\n",
       "      <td>Conjonctive</td>\n",
       "    </tr>\n",
       "    <tr>\n",
       "      <th>1681</th>\n",
       "      <td>0.990</td>\n",
       "      <td>Hated</td>\n",
       "      <td>Beartooth</td>\n",
       "    </tr>\n",
       "    <tr>\n",
       "      <th>1296</th>\n",
       "      <td>0.990</td>\n",
       "      <td>Black Colors</td>\n",
       "      <td>Victim Of Deception</td>\n",
       "    </tr>\n",
       "  </tbody>\n",
       "</table>\n",
       "</div>"
      ],
      "text/plain": [
       "      energy           song_title                    artist\n",
       "1299   0.998        No Absolution         Thy Art Is Murder\n",
       "1322   0.997           Pitchblack  Walking Dead On Broadway\n",
       "1297   0.994    A Darkened Gospel      A Wake in Providence\n",
       "1347   0.993           Unanswered           Suicide Silence\n",
       "2015   0.992        First Contact                Twin Moons\n",
       "1680   0.992             Paranoia         A Day To Remember\n",
       "1332   0.992      Beautiful Agony          Within The Ruins\n",
       "1328   0.991  Down into the Abyss               Conjonctive\n",
       "1681   0.990                Hated                 Beartooth\n",
       "1296   0.990         Black Colors       Victim Of Deception"
      ]
     },
     "execution_count": 15,
     "metadata": {},
     "output_type": "execute_result"
    }
   ],
   "source": [
    "#top 10 energetic songs\n",
    "top_ten_energetic=dataset[[\"energy\",\"song_title\",\"artist\"]].sort_values(ascending=False,by=\"energy\")[:10]\n",
    "top_ten_energetic"
   ]
  },
  {
   "cell_type": "code",
   "execution_count": 16,
   "id": "fecdbef2",
   "metadata": {
    "execution": {
     "iopub.execute_input": "2023-03-13T20:05:19.928519Z",
     "iopub.status.busy": "2023-03-13T20:05:19.927463Z",
     "iopub.status.idle": "2023-03-13T20:05:19.936843Z",
     "shell.execute_reply": "2023-03-13T20:05:19.936021Z"
    },
    "papermill": {
     "duration": 0.020465,
     "end_time": "2023-03-13T20:05:19.938963",
     "exception": false,
     "start_time": "2023-03-13T20:05:19.918498",
     "status": "completed"
    },
    "tags": []
   },
   "outputs": [
    {
     "data": {
      "text/plain": [
       "River                 3\n",
       "Jack                  3\n",
       "Mask Off              2\n",
       "Be My Baby            2\n",
       "Oblivion              2\n",
       "                     ..\n",
       "L'Amour Parfait       1\n",
       "I Follow Rivers       1\n",
       "From Nowhere          1\n",
       "I Need You            1\n",
       "I Wanna Get Better    1\n",
       "Name: song_title, Length: 1956, dtype: int64"
      ]
     },
     "execution_count": 16,
     "metadata": {},
     "output_type": "execute_result"
    }
   ],
   "source": [
    "song=dataset[\"song_title\"].value_counts()\n",
    "song"
   ]
  },
  {
   "cell_type": "code",
   "execution_count": 17,
   "id": "aab5df25",
   "metadata": {
    "execution": {
     "iopub.execute_input": "2023-03-13T20:05:19.956623Z",
     "iopub.status.busy": "2023-03-13T20:05:19.955892Z",
     "iopub.status.idle": "2023-03-13T20:05:19.970926Z",
     "shell.execute_reply": "2023-03-13T20:05:19.969735Z"
    },
    "papermill": {
     "duration": 0.026454,
     "end_time": "2023-03-13T20:05:19.973293",
     "exception": false,
     "start_time": "2023-03-13T20:05:19.946839",
     "status": "completed"
    },
    "tags": []
   },
   "outputs": [
    {
     "data": {
      "text/html": [
       "<div>\n",
       "<style scoped>\n",
       "    .dataframe tbody tr th:only-of-type {\n",
       "        vertical-align: middle;\n",
       "    }\n",
       "\n",
       "    .dataframe tbody tr th {\n",
       "        vertical-align: top;\n",
       "    }\n",
       "\n",
       "    .dataframe thead th {\n",
       "        text-align: right;\n",
       "    }\n",
       "</style>\n",
       "<table border=\"1\" class=\"dataframe\">\n",
       "  <thead>\n",
       "    <tr style=\"text-align: right;\">\n",
       "      <th></th>\n",
       "      <th>Songs</th>\n",
       "      <th>Count</th>\n",
       "    </tr>\n",
       "  </thead>\n",
       "  <tbody>\n",
       "    <tr>\n",
       "      <th>0</th>\n",
       "      <td>River</td>\n",
       "      <td>3</td>\n",
       "    </tr>\n",
       "    <tr>\n",
       "      <th>1</th>\n",
       "      <td>Jack</td>\n",
       "      <td>3</td>\n",
       "    </tr>\n",
       "    <tr>\n",
       "      <th>2</th>\n",
       "      <td>Mask Off</td>\n",
       "      <td>2</td>\n",
       "    </tr>\n",
       "    <tr>\n",
       "      <th>3</th>\n",
       "      <td>Be My Baby</td>\n",
       "      <td>2</td>\n",
       "    </tr>\n",
       "    <tr>\n",
       "      <th>4</th>\n",
       "      <td>Oblivion</td>\n",
       "      <td>2</td>\n",
       "    </tr>\n",
       "    <tr>\n",
       "      <th>5</th>\n",
       "      <td>Obedear</td>\n",
       "      <td>2</td>\n",
       "    </tr>\n",
       "    <tr>\n",
       "      <th>6</th>\n",
       "      <td>Swimming Pools (Drank) - Extended Version</td>\n",
       "      <td>2</td>\n",
       "    </tr>\n",
       "    <tr>\n",
       "      <th>7</th>\n",
       "      <td>Pyramids</td>\n",
       "      <td>2</td>\n",
       "    </tr>\n",
       "    <tr>\n",
       "      <th>8</th>\n",
       "      <td>1-800-273-8255</td>\n",
       "      <td>2</td>\n",
       "    </tr>\n",
       "    <tr>\n",
       "      <th>9</th>\n",
       "      <td>Midnight City</td>\n",
       "      <td>2</td>\n",
       "    </tr>\n",
       "  </tbody>\n",
       "</table>\n",
       "</div>"
      ],
      "text/plain": [
       "                                       Songs  Count\n",
       "0                                      River      3\n",
       "1                                       Jack      3\n",
       "2                                   Mask Off      2\n",
       "3                                 Be My Baby      2\n",
       "4                                   Oblivion      2\n",
       "5                                    Obedear      2\n",
       "6  Swimming Pools (Drank) - Extended Version      2\n",
       "7                                   Pyramids      2\n",
       "8                             1-800-273-8255      2\n",
       "9                              Midnight City      2"
      ]
     },
     "execution_count": 17,
     "metadata": {},
     "output_type": "execute_result"
    }
   ],
   "source": [
    "#most trending genre\n",
    "most_trending=dataset[\"song_title\"].value_counts(ascending=False)[:10]\n",
    "most_trending=pd.DataFrame(most_trending).reset_index()\n",
    "most_trending=most_trending.rename(columns={\"index\":\"Songs\",\"song_title\":\"Count\"})\n",
    "most_trending"
   ]
  },
  {
   "cell_type": "code",
   "execution_count": 18,
   "id": "f36b3d7a",
   "metadata": {
    "execution": {
     "iopub.execute_input": "2023-03-13T20:05:19.991928Z",
     "iopub.status.busy": "2023-03-13T20:05:19.991198Z",
     "iopub.status.idle": "2023-03-13T20:05:20.000220Z",
     "shell.execute_reply": "2023-03-13T20:05:19.999112Z"
    },
    "papermill": {
     "duration": 0.020368,
     "end_time": "2023-03-13T20:05:20.002363",
     "exception": false,
     "start_time": "2023-03-13T20:05:19.981995",
     "status": "completed"
    },
    "tags": []
   },
   "outputs": [
    {
     "data": {
      "text/plain": [
       "192000    5\n",
       "243493    3\n",
       "206013    3\n",
       "228467    3\n",
       "240000    3\n",
       "189333    2\n",
       "252053    2\n",
       "243800    2\n",
       "199973    2\n",
       "254360    2\n",
       "Name: duration_ms, dtype: int64"
      ]
     },
     "execution_count": 18,
     "metadata": {},
     "output_type": "execute_result"
    }
   ],
   "source": [
    "#most common duration\n",
    "duration=dataset[\"duration_ms\"].value_counts()[:10]\n",
    "duration"
   ]
  },
  {
   "cell_type": "code",
   "execution_count": 19,
   "id": "a43d10f1",
   "metadata": {
    "execution": {
     "iopub.execute_input": "2023-03-13T20:05:20.020391Z",
     "iopub.status.busy": "2023-03-13T20:05:20.020031Z",
     "iopub.status.idle": "2023-03-13T20:05:20.032307Z",
     "shell.execute_reply": "2023-03-13T20:05:20.031132Z"
    },
    "papermill": {
     "duration": 0.024158,
     "end_time": "2023-03-13T20:05:20.034643",
     "exception": false,
     "start_time": "2023-03-13T20:05:20.010485",
     "status": "completed"
    },
    "tags": []
   },
   "outputs": [
    {
     "data": {
      "text/html": [
       "<div>\n",
       "<style scoped>\n",
       "    .dataframe tbody tr th:only-of-type {\n",
       "        vertical-align: middle;\n",
       "    }\n",
       "\n",
       "    .dataframe tbody tr th {\n",
       "        vertical-align: top;\n",
       "    }\n",
       "\n",
       "    .dataframe thead th {\n",
       "        text-align: right;\n",
       "    }\n",
       "</style>\n",
       "<table border=\"1\" class=\"dataframe\">\n",
       "  <thead>\n",
       "    <tr style=\"text-align: right;\">\n",
       "      <th></th>\n",
       "      <th>Time_ms</th>\n",
       "      <th>Count</th>\n",
       "    </tr>\n",
       "  </thead>\n",
       "  <tbody>\n",
       "    <tr>\n",
       "      <th>0</th>\n",
       "      <td>192000</td>\n",
       "      <td>5</td>\n",
       "    </tr>\n",
       "    <tr>\n",
       "      <th>1</th>\n",
       "      <td>243493</td>\n",
       "      <td>3</td>\n",
       "    </tr>\n",
       "    <tr>\n",
       "      <th>2</th>\n",
       "      <td>206013</td>\n",
       "      <td>3</td>\n",
       "    </tr>\n",
       "    <tr>\n",
       "      <th>3</th>\n",
       "      <td>228467</td>\n",
       "      <td>3</td>\n",
       "    </tr>\n",
       "    <tr>\n",
       "      <th>4</th>\n",
       "      <td>240000</td>\n",
       "      <td>3</td>\n",
       "    </tr>\n",
       "    <tr>\n",
       "      <th>5</th>\n",
       "      <td>189333</td>\n",
       "      <td>2</td>\n",
       "    </tr>\n",
       "    <tr>\n",
       "      <th>6</th>\n",
       "      <td>252053</td>\n",
       "      <td>2</td>\n",
       "    </tr>\n",
       "    <tr>\n",
       "      <th>7</th>\n",
       "      <td>243800</td>\n",
       "      <td>2</td>\n",
       "    </tr>\n",
       "    <tr>\n",
       "      <th>8</th>\n",
       "      <td>199973</td>\n",
       "      <td>2</td>\n",
       "    </tr>\n",
       "    <tr>\n",
       "      <th>9</th>\n",
       "      <td>254360</td>\n",
       "      <td>2</td>\n",
       "    </tr>\n",
       "  </tbody>\n",
       "</table>\n",
       "</div>"
      ],
      "text/plain": [
       "   Time_ms  Count\n",
       "0   192000      5\n",
       "1   243493      3\n",
       "2   206013      3\n",
       "3   228467      3\n",
       "4   240000      3\n",
       "5   189333      2\n",
       "6   252053      2\n",
       "7   243800      2\n",
       "8   199973      2\n",
       "9   254360      2"
      ]
     },
     "execution_count": 19,
     "metadata": {},
     "output_type": "execute_result"
    }
   ],
   "source": [
    "duration=pd.DataFrame(duration).reset_index()\n",
    "duration=duration.rename(columns={\"index\":\"Time_ms\",\"duration_ms\":\"Count\"})\n",
    "duration"
   ]
  },
  {
   "cell_type": "code",
   "execution_count": 20,
   "id": "bb2946d6",
   "metadata": {
    "execution": {
     "iopub.execute_input": "2023-03-13T20:05:20.053059Z",
     "iopub.status.busy": "2023-03-13T20:05:20.052650Z",
     "iopub.status.idle": "2023-03-13T20:05:20.067340Z",
     "shell.execute_reply": "2023-03-13T20:05:20.066206Z"
    },
    "papermill": {
     "duration": 0.02641,
     "end_time": "2023-03-13T20:05:20.069510",
     "exception": false,
     "start_time": "2023-03-13T20:05:20.043100",
     "status": "completed"
    },
    "tags": []
   },
   "outputs": [
    {
     "data": {
      "text/html": [
       "<div>\n",
       "<style scoped>\n",
       "    .dataframe tbody tr th:only-of-type {\n",
       "        vertical-align: middle;\n",
       "    }\n",
       "\n",
       "    .dataframe tbody tr th {\n",
       "        vertical-align: top;\n",
       "    }\n",
       "\n",
       "    .dataframe thead th {\n",
       "        text-align: right;\n",
       "    }\n",
       "</style>\n",
       "<table border=\"1\" class=\"dataframe\">\n",
       "  <thead>\n",
       "    <tr style=\"text-align: right;\">\n",
       "      <th></th>\n",
       "      <th>Artists</th>\n",
       "      <th>Count</th>\n",
       "    </tr>\n",
       "  </thead>\n",
       "  <tbody>\n",
       "    <tr>\n",
       "      <th>0</th>\n",
       "      <td>Drake</td>\n",
       "      <td>16</td>\n",
       "    </tr>\n",
       "    <tr>\n",
       "      <th>1</th>\n",
       "      <td>Rick Ross</td>\n",
       "      <td>13</td>\n",
       "    </tr>\n",
       "    <tr>\n",
       "      <th>2</th>\n",
       "      <td>Disclosure</td>\n",
       "      <td>12</td>\n",
       "    </tr>\n",
       "    <tr>\n",
       "      <th>3</th>\n",
       "      <td>WALK THE MOON</td>\n",
       "      <td>10</td>\n",
       "    </tr>\n",
       "    <tr>\n",
       "      <th>4</th>\n",
       "      <td>Backstreet Boys</td>\n",
       "      <td>10</td>\n",
       "    </tr>\n",
       "    <tr>\n",
       "      <th>5</th>\n",
       "      <td>Crystal Castles</td>\n",
       "      <td>9</td>\n",
       "    </tr>\n",
       "    <tr>\n",
       "      <th>6</th>\n",
       "      <td>FIDLAR</td>\n",
       "      <td>9</td>\n",
       "    </tr>\n",
       "    <tr>\n",
       "      <th>7</th>\n",
       "      <td>Future</td>\n",
       "      <td>8</td>\n",
       "    </tr>\n",
       "    <tr>\n",
       "      <th>8</th>\n",
       "      <td>Fall Out Boy</td>\n",
       "      <td>8</td>\n",
       "    </tr>\n",
       "    <tr>\n",
       "      <th>9</th>\n",
       "      <td>Skrillex</td>\n",
       "      <td>8</td>\n",
       "    </tr>\n",
       "    <tr>\n",
       "      <th>10</th>\n",
       "      <td>Big Time Rush</td>\n",
       "      <td>8</td>\n",
       "    </tr>\n",
       "  </tbody>\n",
       "</table>\n",
       "</div>"
      ],
      "text/plain": [
       "            Artists  Count\n",
       "0             Drake     16\n",
       "1         Rick Ross     13\n",
       "2        Disclosure     12\n",
       "3     WALK THE MOON     10\n",
       "4   Backstreet Boys     10\n",
       "5   Crystal Castles      9\n",
       "6            FIDLAR      9\n",
       "7            Future      8\n",
       "8      Fall Out Boy      8\n",
       "9          Skrillex      8\n",
       "10    Big Time Rush      8"
      ]
     },
     "execution_count": 20,
     "metadata": {},
     "output_type": "execute_result"
    }
   ],
   "source": [
    "#most popular artist\n",
    "popular_artist=dataset[\"artist\"].value_counts()[:11]\n",
    "popular_artist=pd.DataFrame(popular_artist).reset_index()\n",
    "popular_artist=popular_artist.rename(columns={\"index\":\"Artists\",\"artist\":\"Count\"})\n",
    "popular_artist"
   ]
  },
  {
   "cell_type": "code",
   "execution_count": 21,
   "id": "a66a9d88",
   "metadata": {
    "execution": {
     "iopub.execute_input": "2023-03-13T20:05:20.088409Z",
     "iopub.status.busy": "2023-03-13T20:05:20.088018Z",
     "iopub.status.idle": "2023-03-13T20:05:20.098706Z",
     "shell.execute_reply": "2023-03-13T20:05:20.097717Z"
    },
    "papermill": {
     "duration": 0.022765,
     "end_time": "2023-03-13T20:05:20.100898",
     "exception": false,
     "start_time": "2023-03-13T20:05:20.078133",
     "status": "completed"
    },
    "tags": []
   },
   "outputs": [
    {
     "data": {
      "text/html": [
       "<div>\n",
       "<style scoped>\n",
       "    .dataframe tbody tr th:only-of-type {\n",
       "        vertical-align: middle;\n",
       "    }\n",
       "\n",
       "    .dataframe tbody tr th {\n",
       "        vertical-align: top;\n",
       "    }\n",
       "\n",
       "    .dataframe thead th {\n",
       "        text-align: right;\n",
       "    }\n",
       "</style>\n",
       "<table border=\"1\" class=\"dataframe\">\n",
       "  <thead>\n",
       "    <tr style=\"text-align: right;\">\n",
       "      <th></th>\n",
       "      <th>Artists</th>\n",
       "      <th>Count</th>\n",
       "    </tr>\n",
       "  </thead>\n",
       "  <tbody>\n",
       "    <tr>\n",
       "      <th>0</th>\n",
       "      <td>Drake</td>\n",
       "      <td>16</td>\n",
       "    </tr>\n",
       "    <tr>\n",
       "      <th>1</th>\n",
       "      <td>Rick Ross</td>\n",
       "      <td>13</td>\n",
       "    </tr>\n",
       "    <tr>\n",
       "      <th>2</th>\n",
       "      <td>Disclosure</td>\n",
       "      <td>12</td>\n",
       "    </tr>\n",
       "    <tr>\n",
       "      <th>3</th>\n",
       "      <td>WALK THE MOON</td>\n",
       "      <td>10</td>\n",
       "    </tr>\n",
       "    <tr>\n",
       "      <th>4</th>\n",
       "      <td>Backstreet Boys</td>\n",
       "      <td>10</td>\n",
       "    </tr>\n",
       "    <tr>\n",
       "      <th>5</th>\n",
       "      <td>Crystal Castles</td>\n",
       "      <td>9</td>\n",
       "    </tr>\n",
       "    <tr>\n",
       "      <th>6</th>\n",
       "      <td>FIDLAR</td>\n",
       "      <td>9</td>\n",
       "    </tr>\n",
       "    <tr>\n",
       "      <th>7</th>\n",
       "      <td>Future</td>\n",
       "      <td>8</td>\n",
       "    </tr>\n",
       "    <tr>\n",
       "      <th>8</th>\n",
       "      <td>Fall Out Boy</td>\n",
       "      <td>8</td>\n",
       "    </tr>\n",
       "    <tr>\n",
       "      <th>10</th>\n",
       "      <td>Big Time Rush</td>\n",
       "      <td>8</td>\n",
       "    </tr>\n",
       "  </tbody>\n",
       "</table>\n",
       "</div>"
      ],
      "text/plain": [
       "            Artists  Count\n",
       "0             Drake     16\n",
       "1         Rick Ross     13\n",
       "2        Disclosure     12\n",
       "3     WALK THE MOON     10\n",
       "4   Backstreet Boys     10\n",
       "5   Crystal Castles      9\n",
       "6            FIDLAR      9\n",
       "7            Future      8\n",
       "8      Fall Out Boy      8\n",
       "10    Big Time Rush      8"
      ]
     },
     "execution_count": 21,
     "metadata": {},
     "output_type": "execute_result"
    }
   ],
   "source": [
    "popular_artist=popular_artist.drop(9,axis=0)\n",
    "popular_artist"
   ]
  },
  {
   "cell_type": "code",
   "execution_count": 22,
   "id": "85b345c6",
   "metadata": {
    "execution": {
     "iopub.execute_input": "2023-03-13T20:05:20.121134Z",
     "iopub.status.busy": "2023-03-13T20:05:20.119894Z",
     "iopub.status.idle": "2023-03-13T20:05:20.134071Z",
     "shell.execute_reply": "2023-03-13T20:05:20.132984Z"
    },
    "papermill": {
     "duration": 0.026803,
     "end_time": "2023-03-13T20:05:20.136612",
     "exception": false,
     "start_time": "2023-03-13T20:05:20.109809",
     "status": "completed"
    },
    "tags": []
   },
   "outputs": [
    {
     "data": {
      "text/html": [
       "<div>\n",
       "<style scoped>\n",
       "    .dataframe tbody tr th:only-of-type {\n",
       "        vertical-align: middle;\n",
       "    }\n",
       "\n",
       "    .dataframe tbody tr th {\n",
       "        vertical-align: top;\n",
       "    }\n",
       "\n",
       "    .dataframe thead th {\n",
       "        text-align: right;\n",
       "    }\n",
       "</style>\n",
       "<table border=\"1\" class=\"dataframe\">\n",
       "  <thead>\n",
       "    <tr style=\"text-align: right;\">\n",
       "      <th></th>\n",
       "      <th>song_title</th>\n",
       "      <th>valence</th>\n",
       "    </tr>\n",
       "  </thead>\n",
       "  <tbody>\n",
       "    <tr>\n",
       "      <th>460</th>\n",
       "      <td>Abataka - Original Mix</td>\n",
       "      <td>0.992</td>\n",
       "    </tr>\n",
       "    <tr>\n",
       "      <th>912</th>\n",
       "      <td>I'm Walkin' - 2002 Digital Remaster</td>\n",
       "      <td>0.975</td>\n",
       "    </tr>\n",
       "    <tr>\n",
       "      <th>1966</th>\n",
       "      <td>To Roz Bikini (Itsy, Bitsy, Teenie, Weenie)</td>\n",
       "      <td>0.974</td>\n",
       "    </tr>\n",
       "    <tr>\n",
       "      <th>207</th>\n",
       "      <td>Look at You</td>\n",
       "      <td>0.973</td>\n",
       "    </tr>\n",
       "    <tr>\n",
       "      <th>48</th>\n",
       "      <td>Azon de ma gnin kpevi</td>\n",
       "      <td>0.973</td>\n",
       "    </tr>\n",
       "    <tr>\n",
       "      <th>337</th>\n",
       "      <td>Let's Lovedance Tonight - Danny Krivit Re-edit...</td>\n",
       "      <td>0.972</td>\n",
       "    </tr>\n",
       "    <tr>\n",
       "      <th>1590</th>\n",
       "      <td>Jelly On A Plate</td>\n",
       "      <td>0.972</td>\n",
       "    </tr>\n",
       "    <tr>\n",
       "      <th>838</th>\n",
       "      <td>Let's Lovedance Tonight - Danny Krivit Re-edit...</td>\n",
       "      <td>0.971</td>\n",
       "    </tr>\n",
       "    <tr>\n",
       "      <th>497</th>\n",
       "      <td>Mi Swing es Tropical</td>\n",
       "      <td>0.968</td>\n",
       "    </tr>\n",
       "    <tr>\n",
       "      <th>112</th>\n",
       "      <td>Please Mr. Postman</td>\n",
       "      <td>0.967</td>\n",
       "    </tr>\n",
       "  </tbody>\n",
       "</table>\n",
       "</div>"
      ],
      "text/plain": [
       "                                             song_title  valence\n",
       "460                              Abataka - Original Mix    0.992\n",
       "912                 I'm Walkin' - 2002 Digital Remaster    0.975\n",
       "1966        To Roz Bikini (Itsy, Bitsy, Teenie, Weenie)    0.974\n",
       "207                                         Look at You    0.973\n",
       "48                                Azon de ma gnin kpevi    0.973\n",
       "337   Let's Lovedance Tonight - Danny Krivit Re-edit...    0.972\n",
       "1590                                   Jelly On A Plate    0.972\n",
       "838   Let's Lovedance Tonight - Danny Krivit Re-edit...    0.971\n",
       "497                                Mi Swing es Tropical    0.968\n",
       "112                                  Please Mr. Postman    0.967"
      ]
     },
     "execution_count": 22,
     "metadata": {},
     "output_type": "execute_result"
    }
   ],
   "source": [
    "#top 10 tracks with most valence\n",
    "top_10=dataset[[\"song_title\",\"valence\"]].sort_values(ascending=False,by=\"valence\")[:10]\n",
    "top_10"
   ]
  },
  {
   "cell_type": "code",
   "execution_count": null,
   "id": "d2a4c793",
   "metadata": {
    "papermill": {
     "duration": 0.008473,
     "end_time": "2023-03-13T20:05:20.154085",
     "exception": false,
     "start_time": "2023-03-13T20:05:20.145612",
     "status": "completed"
    },
    "tags": []
   },
   "outputs": [],
   "source": []
  }
 ],
 "metadata": {
  "kernelspec": {
   "display_name": "Python 3",
   "language": "python",
   "name": "python3"
  },
  "language_info": {
   "codemirror_mode": {
    "name": "ipython",
    "version": 3
   },
   "file_extension": ".py",
   "mimetype": "text/x-python",
   "name": "python",
   "nbconvert_exporter": "python",
   "pygments_lexer": "ipython3",
   "version": "3.7.12"
  },
  "papermill": {
   "default_parameters": {},
   "duration": 11.95434,
   "end_time": "2023-03-13T20:05:20.888282",
   "environment_variables": {},
   "exception": null,
   "input_path": "__notebook__.ipynb",
   "output_path": "__notebook__.ipynb",
   "parameters": {},
   "start_time": "2023-03-13T20:05:08.933942",
   "version": "2.4.0"
  }
 },
 "nbformat": 4,
 "nbformat_minor": 5
}
